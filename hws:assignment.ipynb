{
 "cells": [
  {
   "cell_type": "markdown",
   "id": "13ad028b-72b7-43ed-aa78-96fd4e518040",
   "metadata": {
    "id": "13ad028b-72b7-43ed-aa78-96fd4e518040"
   },
   "source": [
    "! git clone https://github.com/DS3001/wrangling# Assignment: Data Wrangling\n",
    "## `! git clone https://github.com/DS3001/wrangling`\n",
    "## Do Q2, and one of Q1 or Q3."
   ]
  },
  {
   "cell_type": "markdown",
   "id": "5735a4d4-8be8-433a-a351-70eb8002e632",
   "metadata": {
    "id": "5735a4d4-8be8-433a-a351-70eb8002e632"
   },
   "source": [
    "**Q1.** Open the \"tidy_data.pdf\" document in the repo, which is a paper called Tidy Data by Hadley Wickham.\n",
    "\n",
    "  1. Read the abstract. What is this paper about?\n",
    "  2. Read the introduction. What is the \"tidy data standard\" intended to accomplish?\n",
    "  3. Read the intro to section 2. What does this sentence mean: \"Like families, tidy datasets are all alike but every messy dataset is messy in its own way.\" What does this sentence mean: \"For a given dataset, it’s usually easy to figure out what are observations and what are variables, but it is surprisingly difficult to precisely define variables and observations in general.\"\n",
    "  4. Read Section 2.2. How does Wickham define values, variables, and observations?\n",
    "  5. How is \"Tidy Data\" defined in section 2.3?\n",
    "  6. Read the intro to Section 3 and Section 3.1. What are the 5 most common problems with messy datasets? Why are the data in Table 4 messy? What is \"melting\" a dataset?\n",
    "  7. Why, specifically, is table 11 messy but table 12 tidy and \"molten\"?\n",
    "  8. Read Section 6. What is the \"chicken-and-egg\" problem with focusing on tidy data? What does Wickham hope happens in the future with further work on the subject of data wrangling?"
   ]
  },
  {
   "cell_type": "markdown",
   "id": "239b00ca-657b-4fbf-ba26-676e6b3e4fa8",
   "metadata": {},
   "source": [
    "1. This paper talks about \"tidying data\", and what that entails of. Tidy data itself specifies rows as observations, columns as variables, and a table as a type of observational unit. Aftering tidying how you want it like merging columns/rows, removing duplicates, omitting NA's, etc, you'd want to understand the new picture of what a \"tidy\"'d data should look like – when is the stopping point that's \"tidy\" enough. \n",
    "2. The \"tidy data standard\" is meant to aid in the initial exploration of data analysis with easy-to-use tools to manipulate data to your liking – overall the standard aims to accomplish easier methods of cleaning data since the process can be very time consuming and meticulousness.\n",
    "3. Cleaned tidy data present similarities, like a standard way of having been cleaned, while messy untidy data can be messy in unique ways. // The definitions themselves are easy to understand like if you see a column, that's a variable and if you see a row, that's an observation, but in practice, in examining the actual data itself, it's harder to find an exact definition for data that's not as black and white as an observation and a variable. You might have to imagine one thing being another and vice versa depending on what makes the most sense, and especially what makes the most sense/ease in tidying.\n",
    "4. Dataset: collection of values (numbers or strings) –> values organized in two ways, a variable and an observation. Variable contains all values that measure the same attribute across units, while observations measure the same unit across attributes.\n",
    "5. Tidy data is a standard way of mapping the meaning of a dataset to its structure. A dataset is messy or tidy depending on how rows, columns and tables are matched up with observations, variables and types. Each variable forms a column, each observation forms a row, and each type of observational unit forms a table.\n",
    "6. \n",
    "    1. column headers are values, not variable names \n",
    "    2. multiple variables are stored in one column \n",
    "    3. variables are stored in both rows and columns \n",
    "    4. multiple types of observational units are stored in same table \n",
    "    5. a single observational unit is stored in multiple tables\n",
    "\n",
    "    The data in Table 4 is messy because the columns that map to religion aren't about income itself, it's the frequency of each diff sets of incomes, you would have to make an actual income column and then list the frequencies beside it – this way the columns are actually variables, not just values that the column represents. Melting a dataset is transforming column data into rows.\n",
    "\n",
    "7. Table 11 is messy because it has values as column names instead of just one column that holds those values. Table 12 melts and combines existing columns into one date column, and it's not yet tidy because the 'element' column is like useless it can be scrapped and instead just have two columns for tmin, tmax that way the columns actually mean something in relation to the data.\n",
    "8. If tidy data is only as useful as the tools that work with it, then tidy tools will be linked to tidy data; Wickham hopes that others build upon the framework to develop even better data cleaning and data tools to help make tasks even easier."
   ]
  },
  {
   "cell_type": "markdown",
   "id": "da879ea7-8aac-48a3-b6c2-daea56d2e072",
   "metadata": {
    "id": "da879ea7-8aac-48a3-b6c2-daea56d2e072"
   },
   "source": [
    "**Q2.** This question provides some practice cleaning variables which have common problems.\n",
    "1. Numeric variable: For `./data/airbnb_hw.csv`, clean the `Price` variable as well as you can, and explain the choices you make. How many missing values do you end up with? (Hint: What happens to the formatting when a price goes over 999 dollars, say from 675 to 1,112?)\n",
    "2. Categorical variable: For the `./data/sharks.csv` data covered in the lecture, clean the \"Type\" variable as well as you can, and explain the choices you make.\n",
    "3. Dummy variable: For the pretrial data covered in the lecture, clean the `WhetherDefendantWasReleasedPretrial` variable as well as you can, and, in particular, replace missing values with `np.nan`.\n",
    "4. Missing values, not at random: For the pretrial data covered in the lecture, clean the `ImposedSentenceAllChargeInContactEvent` variable as well as you can, and explain the choices you make. (Hint: Look at the `SentenceTypeAllChargesAtConvictionInContactEvent` variable.)"
   ]
  },
  {
   "cell_type": "code",
   "execution_count": 2,
   "id": "cd3cda72-f0bc-48c3-adf2-9c706bf6882a",
   "metadata": {},
   "outputs": [],
   "source": [
    "# all necessary lib imports\n",
    "import pandas as pd\n",
    "import numpy as np"
   ]
  },
  {
   "cell_type": "code",
   "execution_count": 3,
   "id": "95fbbe13-29a6-4d5a-bb28-d8eefc67c90d",
   "metadata": {},
   "outputs": [],
   "source": [
    "# part 1\n",
    "\n",
    "df = pd.read_csv('./data/airbnb_hw.csv') # read in csv file and print out first 5 lines\n",
    "# df.head()"
   ]
  },
  {
   "cell_type": "code",
   "execution_count": 4,
   "id": "41463de4-3a23-44d4-b919-1f9f35875dff",
   "metadata": {},
   "outputs": [
    {
     "name": "stdout",
     "output_type": "stream",
     "text": [
      "[  145    37    28   199   549   149   250    90   270   290   170    59\n",
      "    49    68   285    75   100   150   700   125   175    40    89    95\n",
      "    99   499   120    79   110   180   143   230   350   135    85    60\n",
      "    70    55    44   200   165   115    74    84   129    50   185    80\n",
      "   190   140    45    65   225   600   109  1990    73   240    72   105\n",
      "   155   160    42   132   117   295   280   159   107    69   239   220\n",
      "   399   130   375   585   275   139   260    35   133   300   289   179\n",
      "    98   195    29    27    39   249   192   142   169  1000   131   138\n",
      "   113   122   329   101   475   238   272   308   126   235   315   248\n",
      "   128    56   207   450   215   210   385   445   136   247   118    77\n",
      "    76    92   198   205   299   222   245   104   153   349   114   320\n",
      "   292   226   420   500   325   307    78   265   108   123   189    32\n",
      "    58    86   219   800   335    63   229   425    67    87  1200   158\n",
      "   650   234   310   695   400   166   119    62   168   340   479    43\n",
      "   395   144    52    47   529   187   209   233    82   269   163   172\n",
      "   305   156   550   435   137   124    48   279   330  5000   134   378\n",
      "    97   277    64   193   147   186   264    30  3000   112    94   379\n",
      "    57   415   236   410   214    88    66    71   171   157   545  1500\n",
      "    83    96  1800    81   188   380   255   505    54    33   174    93\n",
      "   740   640  1300   440   599   357  1239   495   127  5999   178   348\n",
      "   152   242   183   253   750   259   365   273   197   397   103   389\n",
      "   355   559    38   203   999   141   162   333   698    46   360   895\n",
      "    10    41   206   281   449   388   212   102   201  2750  4750   432\n",
      "   675   167   390   298   339   194   302   211   595   191    53   361\n",
      "   480  8000  4500   459   997   345   216   218   111   735   276    91\n",
      "   490   850   398    36   775   267   625   336  2500   176   725  3750\n",
      "   469   106   460   287   575   227   263    25   228   208   177   880\n",
      "   148   116   685   470   217   164    61   645   699   405   252   319\n",
      "   268   419   343   525   311   840   154   294   950   409   184   257\n",
      "   204   241  2000   412   121   288   196   900   647   524  1750   309\n",
      "   510  1495  1700   799   383   372   492   327  1999   656   224   173\n",
      "   875  1170   795   690   146   465  1100   151   274   429   825   282\n",
      "   256  1111   620   271   161    51   855   579  1174   430    20   899\n",
      "   649   485   181   455  4000   243   342   590   560   374   437   232\n",
      "   359   985    31   244   254   723   237   428   370    34  1400   580\n",
      "  2520   221   749  1600  2695   306   202   680   570   520   223  2295\n",
      "   213  1065   346    24   286   296   266    26   995  1368   393   182\n",
      "   635   258   780   589   347  1250  1350   446  3200  1050  1650  1550\n",
      "   975   323  6500  2499  1850  2250   715   461   540   356   439   384\n",
      "   569  1900    22   785   626   830   318   444   321   401  1499   888\n",
      "   369   770   386   366   344   630   313   597   262   509 10000   278\n",
      "   312   789  1195   422    21   765  3500   945   326  3100  2486  3390\n",
      "  1356  2599   472   454   328   396   291]\n",
      "# missing: 0\n"
     ]
    }
   ],
   "source": [
    "# part 1\n",
    "\n",
    "# print out all contents of the Price column\n",
    "price = df['Price']\n",
    "\n",
    "price = price.str.replace(',','') # this line added after initial print bc csv seps vals by comma and for vals 999+ there's\n",
    "# commas to signify 1,000 which messes up entries; also in that way they're treated as string as opposed to a numerical var\n",
    "# so all commas are removed –> convert to numeric\n",
    "price = pd.to_numeric(price)\n",
    "\n",
    "print(price.unique())\n",
    "\n",
    "# print statement to count missing (nan) vals\n",
    "print('# missing:', sum(price.isnull()))"
   ]
  },
  {
   "cell_type": "code",
   "execution_count": 5,
   "id": "588271ec-f07e-4b6f-894b-6951063e2c65",
   "metadata": {},
   "outputs": [],
   "source": [
    "# part 2\n",
    "\n",
    "df = pd.read_csv('./data/sharks.csv', low_memory=False) # read in csv file and print out first 5 lines\n",
    "# idk what the low mem thing is but i added that bc it gave me an error msg w/o it\n",
    "# df.head()"
   ]
  },
  {
   "cell_type": "code",
   "execution_count": 6,
   "id": "3c6dd0f0-a98b-45ca-9ebb-e66870c73128",
   "metadata": {},
   "outputs": [
    {
     "data": {
      "text/plain": [
       "Type\n",
       "Unprovoked         4716\n",
       "Provoked            593\n",
       "Undetermined        565\n",
       "Water Transport     344\n",
       "Sea Disaster        239\n",
       "Name: count, dtype: int64"
      ]
     },
     "execution_count": 6,
     "metadata": {},
     "output_type": "execute_result"
    }
   ],
   "source": [
    "# part 2\n",
    "\n",
    "# gives me what type of entries there are for the Type column\n",
    "# df['Type'].value_counts() # after looking, some entries could be combined into one type\n",
    "\n",
    "temp = df['Type'] # duplicate Type col for manipulating\n",
    "\n",
    "temp = temp.replace(['Boat','Boating','Boatomg', 'Watercraft'],'Water Transport') # water transportation \n",
    "# temp.value_counts()\n",
    "\n",
    "temp = temp.replace(['Invalid', 'Questionable','Unconfirmed','Unverified','Under investigation'], 'Undetermined') # unknown\n",
    "# temp.value_counts()\n",
    "\n",
    "df['Type'] = temp # merge Type col w/ edited version\n",
    "del temp # del temp col\n",
    "\n",
    "df['Type'].value_counts()"
   ]
  },
  {
   "cell_type": "code",
   "execution_count": 8,
   "id": "6f151dc8-a4f0-48df-a8bb-8742a714c5ef",
   "metadata": {
    "tags": []
   },
   "outputs": [
    {
     "data": {
      "text/plain": [
       "Type\n",
       "Unprovoked             4716\n",
       "Provoked                593\n",
       "Invalid                 552\n",
       "Sea Disaster            239\n",
       "Watercraft              142\n",
       "Boat                    109\n",
       "Boating                  92\n",
       "Questionable             10\n",
       "Unconfirmed               1\n",
       "Unverified                1\n",
       "Under investigation       1\n",
       "Boatomg                   1\n",
       "Name: count, dtype: int64"
      ]
     },
     "execution_count": 8,
     "metadata": {},
     "output_type": "execute_result"
    }
   ],
   "source": [
    "# actually can probably exclude the 'Undetermined' type since it doesnt give us usable info\n",
    "df = pd.read_csv('./data/sharks.csv', low_memory=False)\n",
    "\n",
    "temp = df['Type']\n",
    "temp = temp.replace(['Undetermined'], np.nan)\n",
    "\n",
    "df['Type'] = temp\n",
    "del temp\n",
    "\n",
    "df['Type'].value_counts()"
   ]
  },
  {
   "cell_type": "code",
   "execution_count": 7,
   "id": "53b1b964-364f-4a78-907c-6ffc520cfa01",
   "metadata": {},
   "outputs": [
    {
     "data": {
      "text/plain": [
       "released\n",
       "1.0    19154\n",
       "0.0     3801\n",
       "Name: count, dtype: int64"
      ]
     },
     "execution_count": 7,
     "metadata": {},
     "output_type": "execute_result"
    }
   ],
   "source": [
    "# part 3\n",
    "\n",
    "df = pd.read_csv('wrangling/pretrial_data.csv', low_memory=False) # read in csv file and print out first 5 lines\n",
    "# df.head()\n",
    "\n",
    "# pls note that I could not find a column called \"WhetherDefendantWasReleasedPretrial\", \n",
    "# but I did see one called \"released\" and used that instead..\n",
    "temp = df['released']\n",
    "\n",
    "# after searching thru docs, 1 0 9 refer to indigency status where 9 is unknown so we can probs exclude that one\n",
    "temp = temp.replace(9, np.nan)\n",
    "sum(temp.isnull())\n",
    "\n",
    "# print(temp.value_counts())\n",
    "\n",
    "df['released'] = temp\n",
    "del temp\n",
    "\n",
    "df['released'].value_counts()"
   ]
  },
  {
   "cell_type": "code",
   "execution_count": 12,
   "id": "bef8663e-7bf7-455f-b2be-3e5ef989540d",
   "metadata": {
    "tags": []
   },
   "outputs": [
    {
     "name": "stdout",
     "output_type": "stream",
     "text": [
      "# missing: 9053\n",
      "SentenceTypeAllChargesAtConvictionInContactEvent     0     1    2     4    9\n",
      "ImposedSentenceAllChargeInContactEvent                                      \n",
      "False                                             8720  4299  914     0    0\n",
      "True                                                 0     0    0  8779  274 \n",
      "\n",
      "SentenceTypeAllChargesAtConvictionInContactEvent     0     1    2     4    9\n",
      "ImposedSentenceAllChargeInContactEvent                                      \n",
      "False                                             8720  4299  914  8779    0\n",
      "True                                                 0     0    0     0  274\n",
      "# missing updated: 274\n"
     ]
    }
   ],
   "source": [
    "# part 4\n",
    "\n",
    "df = pd.read_csv('wrangling/pretrial_data.csv', low_memory=False)\n",
    "\n",
    "# df['ImposedSentenceAllChargeInContactEvent'].value_counts()\n",
    "# df['SentenceTypeAllChargesAtConvictionInContactEvent'].value_counts()\n",
    "\n",
    "temp = df['ImposedSentenceAllChargeInContactEvent']\n",
    "types = df['SentenceTypeAllChargesAtConvictionInContactEvent'] # codebook defines codes 0 1 2 4 9\n",
    "\n",
    "temp = pd.to_numeric(temp, errors='coerce') # makes everything numeric val\n",
    "\n",
    "tempNA = temp.isnull() # counts amt of missing vals\n",
    "print('# missing:', np.sum(tempNA))\n",
    "\n",
    "print(pd.crosstab(tempNA, types),'\\n')\n",
    "\n",
    "temp = temp.mask( types == 4, 0) # type 4 had case dropped, so no charges –> change to 0\n",
    "temp = temp.mask( types == 9, np.nan) # type 9 had unknown info, so treat as nan\n",
    "\n",
    "# recalc # missing after these changes\n",
    "\n",
    "tempNA = temp.isnull()\n",
    "print(pd.crosstab(tempNA, types))\n",
    "print('# missing updated:', np.sum(tempNA)) # output way better\n",
    "\n",
    "df['ImposedSentenceAllChargeInContactEvent'] = temp\n",
    "del temp\n",
    "del types\n",
    "\n",
    "\n",
    "\n",
    "# https://pandas.pydata.org/docs/reference/api/pandas.crosstab.html#pandas-crosstab"
   ]
  }
 ],
 "metadata": {
  "colab": {
   "provenance": []
  },
  "kernelspec": {
   "display_name": "Python 3 (ipykernel)",
   "language": "python",
   "name": "python3"
  },
  "language_info": {
   "codemirror_mode": {
    "name": "ipython",
    "version": 3
   },
   "file_extension": ".py",
   "mimetype": "text/x-python",
   "name": "python",
   "nbconvert_exporter": "python",
   "pygments_lexer": "ipython3",
   "version": "3.11.4"
  }
 },
 "nbformat": 4,
 "nbformat_minor": 5
}
